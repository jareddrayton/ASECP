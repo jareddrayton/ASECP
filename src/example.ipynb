{
 "cells": [
  {
   "cell_type": "code",
   "execution_count": 3,
   "id": "74539233",
   "metadata": {},
   "outputs": [],
   "source": [
    "import pydistance\n",
    "import fitness_functions"
   ]
  },
  {
   "cell_type": "code",
   "execution_count": 21,
   "id": "f5ef4c38",
   "metadata": {},
   "outputs": [],
   "source": [
    "T  = [639, 1145, 2195]\n",
    "I1 = [277, 1947, 2629]\n",
    "I2 = [335, 936, 2200]\n",
    "I3 = [5000, 5000, 5000]\n",
    "sounds = [T, I1, I2,I3]"
   ]
  },
  {
   "cell_type": "code",
   "execution_count": 36,
   "id": "44211af7",
   "metadata": {},
   "outputs": [
    {
     "name": "stdout",
     "output_type": "stream",
     "text": [
      "[731, 1092, 1600]\n",
      "[376, 1499, 1757]\n",
      "[441, 957, 1602]\n",
      "[2363, 2363, 2363]\n"
     ]
    }
   ],
   "source": [
    "for sound in sounds:\n",
    "    print([round(fitness_functions.hz_to_mel(x)) for x in sound])"
   ]
  },
  {
   "cell_type": "code",
   "execution_count": 37,
   "id": "62906be4",
   "metadata": {},
   "outputs": [
    {
     "name": "stdout",
     "output_type": "stream",
     "text": [
      "[1447, 919, 312]\n",
      "[1118, 349, 4]\n",
      "[3562, 2552, 1425]\n"
     ]
    }
   ],
   "source": [
    "print([round(fitness_functions.hz_to_cent(x,y)) for x,y in zip(T, I1)])\n",
    "print([round(fitness_functions.hz_to_cent(x,y)) for x,y in zip(T, I2)])\n",
    "print([round(fitness_functions.hz_to_cent(x,y)) for x,y in zip(T, I3)])"
   ]
  },
  {
   "cell_type": "code",
   "execution_count": null,
   "id": "03879adb",
   "metadata": {},
   "outputs": [],
   "source": []
  },
  {
   "cell_type": "code",
   "execution_count": 24,
   "id": "838226c9",
   "metadata": {},
   "outputs": [
    {
     "name": "stdout",
     "output_type": "stream",
     "text": [
      "962604\n",
      "1598\n",
      "981.1238453936384\n",
      "\n",
      "316438.4773179806\n",
      "919.4313650451015\n",
      "562.5286457754668\n",
      "\n",
      "3036427.9400840364\n",
      "2678.554131394944\n",
      "1742.5349178952015\n",
      "\n",
      "136122\n",
      "518\n",
      "368.94715068692426\n",
      "\n",
      "102592.8901977986\n",
      "427.66307971623405\n",
      "320.30124913555767\n",
      "\n",
      "1371653.353973062\n",
      "1470.8454995904758\n",
      "1171.176055925437\n",
      "\n",
      "41747371\n",
      "11021\n",
      "6461.220550329481\n",
      "\n",
      "4864051.240863231\n",
      "3667.251538504786\n",
      "2205.4594171879994\n",
      "\n",
      "21228848.454809383\n",
      "7538.793492353192\n",
      "4607.47745027682\n"
     ]
    }
   ],
   "source": [
    "\n",
    "\n",
    "\n",
    "\n",
    "print(fitness_functions.evaluate_fitness(T, I1, \"hz\", \"SSD\", False))\n",
    "print(fitness_functions.evaluate_fitness(T, I1, \"hz\", \"SAD\", False))\n",
    "print(fitness_functions.evaluate_fitness(T, I1, \"hz\", \"EUC\", False))\n",
    "print()\n",
    "print(fitness_functions.evaluate_fitness(T, I1, \"mel\", \"SSD\", False))\n",
    "print(fitness_functions.evaluate_fitness(T, I1, \"mel\", \"SAD\", False))\n",
    "print(fitness_functions.evaluate_fitness(T, I1, \"mel\", \"EUC\", False))\n",
    "print()\n",
    "print(fitness_functions.evaluate_fitness(T, I1, \"cent\", \"SSD\", False))\n",
    "print(fitness_functions.evaluate_fitness(T, I1, \"cent\", \"SAD\", False))\n",
    "print(fitness_functions.evaluate_fitness(T, I1, \"cent\", \"EUC\", False))\n",
    "print()\n",
    "print(fitness_functions.evaluate_fitness(T, I2, \"hz\", \"SSD\", False))\n",
    "print(fitness_functions.evaluate_fitness(T, I2, \"hz\", \"SAD\", False))\n",
    "print(fitness_functions.evaluate_fitness(T, I2, \"hz\", \"EUC\", False))\n",
    "print()\n",
    "print(fitness_functions.evaluate_fitness(T, I2, \"mel\", \"SSD\", False))\n",
    "print(fitness_functions.evaluate_fitness(T, I2, \"mel\", \"SAD\", False))\n",
    "print(fitness_functions.evaluate_fitness(T, I2, \"mel\", \"EUC\", False))\n",
    "print()\n",
    "print(fitness_functions.evaluate_fitness(T, I2, \"cent\", \"SSD\", False))\n",
    "print(fitness_functions.evaluate_fitness(T, I2, \"cent\", \"SAD\", False))\n",
    "print(fitness_functions.evaluate_fitness(T, I2, \"cent\", \"EUC\", False))\n",
    "print()\n",
    "print(fitness_functions.evaluate_fitness(T, I3, \"hz\", \"SSD\", False))\n",
    "print(fitness_functions.evaluate_fitness(T, I3, \"hz\", \"SAD\", False))\n",
    "print(fitness_functions.evaluate_fitness(T, I3, \"hz\", \"EUC\", False))\n",
    "print()\n",
    "print(fitness_functions.evaluate_fitness(T, I3, \"mel\", \"SSD\", False))\n",
    "print(fitness_functions.evaluate_fitness(T, I3, \"mel\", \"SAD\", False))\n",
    "print(fitness_functions.evaluate_fitness(T, I3, \"mel\", \"EUC\", False))\n",
    "print()\n",
    "print(fitness_functions.evaluate_fitness(T, I3, \"cent\", \"SSD\", False))\n",
    "print(fitness_functions.evaluate_fitness(T, I3, \"cent\", \"SAD\", False))\n",
    "print(fitness_functions.evaluate_fitness(T, I3, \"cent\", \"EUC\", False))"
   ]
  },
  {
   "cell_type": "code",
   "execution_count": 1,
   "id": "d34fd675",
   "metadata": {},
   "outputs": [
    {
     "name": "stdout",
     "output_type": "stream",
     "text": [
      "__pycache__\n",
      "arguments.py\n",
      "CONSTANTS.py\n",
      "fitness_functions.py\n",
      "genetic_operators.py\n",
      "individual_class.py\n",
      "main.py\n",
      "praat_control.py\n",
      "pydistance.py\n",
      "stats.py\n",
      "synthesize_praat.py\n",
      "synthesize_vtl.py\n",
      "Untitled.ipynb\n"
     ]
    }
   ],
   "source": [
    "!ls"
   ]
  }
 ],
 "metadata": {
  "kernelspec": {
   "display_name": "Python 3 (ipykernel)",
   "language": "python",
   "name": "python3"
  },
  "language_info": {
   "codemirror_mode": {
    "name": "ipython",
    "version": 3
   },
   "file_extension": ".py",
   "mimetype": "text/x-python",
   "name": "python",
   "nbconvert_exporter": "python",
   "pygments_lexer": "ipython3",
   "version": "3.10.2"
  }
 },
 "nbformat": 4,
 "nbformat_minor": 5
}
