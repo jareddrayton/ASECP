{
 "cells": [
  {
   "cell_type": "code",
   "execution_count": 24,
   "id": "ordinary-excerpt",
   "metadata": {},
   "outputs": [
    {
     "name": "stdout",
     "output_type": "stream",
     "text": [
      "0.3580892384618829\n",
      "[[ 0.85707675  0.01225011 -0.05504005 -0.02448976  0.83440572 -0.01501542\n",
      "  -0.69300445 -0.8213404  -0.12894219 -0.55999258  0.11602355  0.2516816\n",
      "   0.08574683 -0.77393873  0.54306808  0.57317126 -0.24336941  0.11818738\n",
      "   0.67847983 -0.41449452  0.16051158 -0.80481406 -0.60575366  0.7566736\n",
      "   0.74538089 -1.25683308 -0.89151398]]\n"
     ]
    }
   ],
   "source": [
    "import sklearn\n",
    "import pandas as pd\n",
    "import numpy as np\n",
    "\n",
    "from sklearn.model_selection import train_test_split\n",
    "from sklearn.neural_network import MLPRegressor\n",
    "from sklearn.preprocessing import StandardScaler\n",
    "\n",
    "from sklearn.metrics import explained_variance_score, confusion_matrix\n",
    "parameter_data = pd.read_csv('labelled_data.txt')\n",
    "\n",
    "X = parameter_data.iloc[:, 27:]\n",
    "y = parameter_data.iloc[:, 0:27]\n",
    "\n",
    "X_train, X_test, y_train, y_test = train_test_split(X, y, test_size = 0.20)\n",
    "\n",
    "scaler = StandardScaler()\n",
    "scaler.fit(X_train)\n",
    "\n",
    "X_train = scaler.transform(X_train)\n",
    "X_test = scaler.transform(X_test)\n",
    "\n",
    "mlp = MLPRegressor(hidden_layer_sizes=(50, 50, 50, 50), max_iter=1000)\n",
    "\n",
    "mlp.fit(X_train, y_train)\n",
    "\n",
    "predictions = mlp.predict(X_test)\n",
    "\n",
    "\n",
    "\n",
    "print(explained_variance_score(y_test, predictions))\n",
    "\n",
    "test = np.array([350, 1650, 2400, 3247, 3700]).reshape(1, -1)\n",
    "\n",
    "test = scaler.transform(test)\n",
    "\n",
    "new_predict = mlp.predict(test)\n",
    "\n",
    "print(new_predict)\n",
    "\n"
   ]
  }
 ],
 "metadata": {
  "kernelspec": {
   "display_name": "Python 3",
   "language": "python",
   "name": "python3"
  },
  "language_info": {
   "codemirror_mode": {
    "name": "ipython",
    "version": 3
   },
   "file_extension": ".py",
   "mimetype": "text/x-python",
   "name": "python",
   "nbconvert_exporter": "python",
   "pygments_lexer": "ipython3",
   "version": "3.9.1"
  }
 },
 "nbformat": 4,
 "nbformat_minor": 5
}
