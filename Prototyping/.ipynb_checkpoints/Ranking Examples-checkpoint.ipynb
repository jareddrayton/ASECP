{
 "cells": [
  {
   "cell_type": "code",
   "execution_count": 44,
   "metadata": {},
   "outputs": [
    {
     "name": "stdout",
     "output_type": "stream",
     "text": [
      "[0.012642411176571153, 0.017293294335267745, 0.019004258632642722, 0.019633687222225315, 0.01986524106001829, 0.01995042495646667, 0.01998176236068891, 0.01999329074744195, 0.019997531803918268, 0.01999909200140475, 0.019999665965984195, 0.019999877115752934, 0.01999995479341186, 0.019999983369425618, 0.01999999388195359, 0.019999997749296505, 0.019999999172012457, 0.019999999695400405, 0.01999999988794407, 0.019999999958776927, 0.01999999998483488, 0.019999999994421064, 0.019999999997947625, 0.019999999999244972, 0.019999999999722243, 0.019999999999897818, 0.01999999999996241, 0.01999999999998617, 0.019999999999994914, 0.019999999999998127, 0.01999999999999931, 0.019999999999999747, 0.019999999999999907, 0.019999999999999966, 0.019999999999999987, 0.019999999999999997, 0.019999999999999997, 0.02, 0.02, 0.02, 0.02, 0.02, 0.02, 0.02, 0.02, 0.02, 0.02, 0.02, 0.02, 0.02]\n",
      "0.9883604658626138\n",
      "50\n"
     ]
    },
    {
     "data": {
      "image/png": "[encoded data removed]",
      "text/plain": [
       "<matplotlib.figure.Figure at 0x183b2d0>"
      ]
     },
     "metadata": {},
     "output_type": "display_data"
    }
   ],
   "source": [
    "import math\n",
    "import random\n",
    "import matplotlib.pyplot as plt\n",
    "\n",
    "\n",
    "\n",
    "individuals = 50\n",
    "\n",
    "\n",
    "\n",
    "# Exponential ranking\n",
    "\n",
    "probabilities = []\n",
    "\n",
    "for i in range(1, individuals+1):\n",
    "    prob = (1.0 - (math.e ** - i)) / individuals\n",
    "\n",
    "    probabilities.append(prob)\n",
    "    \n",
    "print(probabilities)\n",
    "print(sum(probabilities))\n",
    "print(len(probabilities))\n",
    "\n",
    "fig, ax = plt.subplots()\n",
    "ax.plot(probabilities)\n",
    "plt.show()\n",
    "\n",
    "\n",
    "\n",
    "\n"
   ]
  },
  {
   "cell_type": "code",
   "execution_count": 47,
   "metadata": {},
   "outputs": [
    {
     "ename": "TypeError",
     "evalue": "scatter() missing 1 required positional argument: 'y'",
     "output_type": "error",
     "traceback": [
      "\u001b[1;31m---------------------------------------------------------------------------\u001b[0m",
      "\u001b[1;31mTypeError\u001b[0m                                 Traceback (most recent call last)",
      "\u001b[1;32m<ipython-input-47-0429a8b74f35>\u001b[0m in \u001b[0;36m<module>\u001b[1;34m()\u001b[0m\n\u001b[0;32m      2\u001b[0m \u001b[1;33m\u001b[0m\u001b[0m\n\u001b[0;32m      3\u001b[0m \u001b[1;33m\u001b[0m\u001b[0m\n\u001b[1;32m----> 4\u001b[1;33m \u001b[0mplt\u001b[0m\u001b[1;33m.\u001b[0m\u001b[0mscatter\u001b[0m\u001b[1;33m(\u001b[0m\u001b[0ma\u001b[0m\u001b[1;33m)\u001b[0m\u001b[1;33m\u001b[0m\u001b[0m\n\u001b[0m\u001b[0;32m      5\u001b[0m \u001b[0mplt\u001b[0m\u001b[1;33m.\u001b[0m\u001b[0mshow\u001b[0m\u001b[1;33m(\u001b[0m\u001b[1;33m)\u001b[0m\u001b[1;33m\u001b[0m\u001b[0m\n",
      "\u001b[1;31mTypeError\u001b[0m: scatter() missing 1 required positional argument: 'y'"
     ]
    }
   ],
   "source": [
    "a = [random.gauss(0, 0.25) for x in range(100)]\n",
    "\n",
    "\n",
    "plt.scatter(a)\n",
    "plt.show()"
   ]
  }
 ],
 "metadata": {
  "kernelspec": {
   "display_name": "Python 3",
   "language": "python",
   "name": "python3"
  },
  "language_info": {
   "codemirror_mode": {
    "name": "ipython",
    "version": 3
   },
   "file_extension": ".py",
   "mimetype": "text/x-python",
   "name": "python",
   "nbconvert_exporter": "python",
   "pygments_lexer": "ipython3",
   "version": "3.6.4"
  }
 },
 "nbformat": 4,
 "nbformat_minor": 2
}
